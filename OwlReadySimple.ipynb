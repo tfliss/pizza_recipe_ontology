{
 "cells": [
  {
   "cell_type": "code",
   "execution_count": 1,
   "metadata": {},
   "outputs": [],
   "source": [
    "import pandas as pd\n",
    "from io import StringIO\n",
    "from owlready2 import *\n",
    "from rdflib import RDFS, OWL, RDF\n",
    "import types\n",
    "import yaml"
   ]
  },
  {
   "cell_type": "code",
   "execution_count": 2,
   "metadata": {},
   "outputs": [],
   "source": [
    "my_ontology = get_ontology(\"http://test.org/my_ontology\")"
   ]
  },
  {
   "cell_type": "code",
   "execution_count": 3,
   "metadata": {},
   "outputs": [],
   "source": [
    "class_pd = pd.read_csv(StringIO('''\n",
    "class1,superclass\n",
    "class1,Thing\n",
    "class12,class1\n",
    "class123,class12\n",
    "class124,class12\n",
    "class125,class12\n",
    "'''))"
   ]
  },
  {
   "cell_type": "code",
   "execution_count": 4,
   "metadata": {},
   "outputs": [],
   "source": [
    "# Create some subclasses as a tree\n",
    "\n",
    "with my_ontology:\n",
    "    for i, (clz,sup) in class_pd.iterrows():\n",
    "        if sup == 'Thing':\n",
    "            sup = Thing\n",
    "        else:\n",
    "            sup = my_ontology[sup]\n",
    "        NewClass = types.new_class(clz, (sup,))"
   ]
  },
  {
   "cell_type": "code",
   "execution_count": 5,
   "metadata": {},
   "outputs": [
    {
     "data": {
      "text/plain": [
       "[my_ontology.class1,\n",
       " my_ontology.class12,\n",
       " my_ontology.class123,\n",
       " my_ontology.class124,\n",
       " my_ontology.class125]"
      ]
     },
     "execution_count": 5,
     "metadata": {},
     "output_type": "execute_result"
    }
   ],
   "source": [
    "list(my_ontology.classes())"
   ]
  },
  {
   "cell_type": "code",
   "execution_count": 6,
   "metadata": {},
   "outputs": [],
   "source": [
    "# Create some instances\n",
    "\n",
    "foods = {}\n",
    "\n",
    "for food in ['bread', 'cheese', 'lettuce', 'crackers']:\n",
    "    foods[food] = my_ontology['class123']()"
   ]
  },
  {
   "cell_type": "code",
   "execution_count": 7,
   "metadata": {},
   "outputs": [
    {
     "data": {
      "text/html": [
       "<div>\n",
       "<style scoped>\n",
       "    .dataframe tbody tr th:only-of-type {\n",
       "        vertical-align: middle;\n",
       "    }\n",
       "\n",
       "    .dataframe tbody tr th {\n",
       "        vertical-align: top;\n",
       "    }\n",
       "\n",
       "    .dataframe thead th {\n",
       "        text-align: right;\n",
       "    }\n",
       "</style>\n",
       "<table border=\"1\" class=\"dataframe\">\n",
       "  <thead>\n",
       "    <tr style=\"text-align: right;\">\n",
       "      <th></th>\n",
       "      <th>class1</th>\n",
       "      <th>superclass</th>\n",
       "    </tr>\n",
       "  </thead>\n",
       "  <tbody>\n",
       "    <tr>\n",
       "      <th>0</th>\n",
       "      <td>class1</td>\n",
       "      <td>Thing</td>\n",
       "    </tr>\n",
       "    <tr>\n",
       "      <th>1</th>\n",
       "      <td>class12</td>\n",
       "      <td>class1</td>\n",
       "    </tr>\n",
       "    <tr>\n",
       "      <th>2</th>\n",
       "      <td>class123</td>\n",
       "      <td>class12</td>\n",
       "    </tr>\n",
       "    <tr>\n",
       "      <th>3</th>\n",
       "      <td>class124</td>\n",
       "      <td>class12</td>\n",
       "    </tr>\n",
       "    <tr>\n",
       "      <th>4</th>\n",
       "      <td>class125</td>\n",
       "      <td>class12</td>\n",
       "    </tr>\n",
       "  </tbody>\n",
       "</table>\n",
       "</div>"
      ],
      "text/plain": [
       "     class1 superclass\n",
       "0    class1      Thing\n",
       "1   class12     class1\n",
       "2  class123    class12\n",
       "3  class124    class12\n",
       "4  class125    class12"
      ]
     },
     "execution_count": 7,
     "metadata": {},
     "output_type": "execute_result"
    }
   ],
   "source": [
    "class_pd"
   ]
  },
  {
   "cell_type": "code",
   "execution_count": 8,
   "metadata": {},
   "outputs": [],
   "source": [
    "property_pd = pd.read_csv(StringIO('''\n",
    "property,superproperty\n",
    "prop1,ObjectProperty\n",
    "prop12,prop1\n",
    "prop123,prop12\n",
    "prop124,prop12\n",
    "prop125,prop12\n",
    "'''))\n",
    "\n",
    "with my_ontology:\n",
    "    Step = types.new_class('Step', (Thing,))\n",
    "\n",
    "with my_ontology:\n",
    "    class equipment(ObjectProperty):\n",
    "        pass\n",
    "    class step_equipment(equipment):\n",
    "        domain           = [Step]"
   ]
  },
  {
   "cell_type": "code",
   "execution_count": 9,
   "metadata": {},
   "outputs": [
    {
     "data": {
      "text/plain": [
       "[my_ontology.equipment, my_ontology.step_equipment]"
      ]
     },
     "execution_count": 9,
     "metadata": {},
     "output_type": "execute_result"
    }
   ],
   "source": [
    "list(my_ontology.properties())"
   ]
  },
  {
   "cell_type": "code",
   "execution_count": 10,
   "metadata": {},
   "outputs": [
    {
     "data": {
      "text/plain": [
       "rdflib.term.URIRef('http://www.w3.org/2002/07/owl#ObjectProperty')"
      ]
     },
     "execution_count": 10,
     "metadata": {},
     "output_type": "execute_result"
    }
   ],
   "source": [
    "from rdflib import OWL\n",
    "OWL.ObjectProperty"
   ]
  },
  {
   "cell_type": "code",
   "execution_count": 11,
   "metadata": {},
   "outputs": [
    {
     "data": {
      "text/html": [
       "<div>\n",
       "<style scoped>\n",
       "    .dataframe tbody tr th:only-of-type {\n",
       "        vertical-align: middle;\n",
       "    }\n",
       "\n",
       "    .dataframe tbody tr th {\n",
       "        vertical-align: top;\n",
       "    }\n",
       "\n",
       "    .dataframe thead th {\n",
       "        text-align: right;\n",
       "    }\n",
       "</style>\n",
       "<table border=\"1\" class=\"dataframe\">\n",
       "  <thead>\n",
       "    <tr style=\"text-align: right;\">\n",
       "      <th></th>\n",
       "      <th>source</th>\n",
       "      <th>target</th>\n",
       "      <th>weight</th>\n",
       "    </tr>\n",
       "  </thead>\n",
       "  <tbody>\n",
       "    <tr>\n",
       "      <th>0</th>\n",
       "      <td>http://test.org/my_ontology#class1</td>\n",
       "      <td>http://www.w3.org/2002/07/owl#Thing</td>\n",
       "      <td>1</td>\n",
       "    </tr>\n",
       "    <tr>\n",
       "      <th>1</th>\n",
       "      <td>http://test.org/my_ontology#class12</td>\n",
       "      <td>http://test.org/my_ontology#class1</td>\n",
       "      <td>1</td>\n",
       "    </tr>\n",
       "    <tr>\n",
       "      <th>2</th>\n",
       "      <td>http://test.org/my_ontology#class123</td>\n",
       "      <td>http://test.org/my_ontology#class12</td>\n",
       "      <td>1</td>\n",
       "    </tr>\n",
       "    <tr>\n",
       "      <th>3</th>\n",
       "      <td>http://test.org/my_ontology#class124</td>\n",
       "      <td>http://test.org/my_ontology#class12</td>\n",
       "      <td>1</td>\n",
       "    </tr>\n",
       "    <tr>\n",
       "      <th>4</th>\n",
       "      <td>http://test.org/my_ontology#class125</td>\n",
       "      <td>http://test.org/my_ontology#class12</td>\n",
       "      <td>1</td>\n",
       "    </tr>\n",
       "    <tr>\n",
       "      <th>5</th>\n",
       "      <td>http://test.org/my_ontology#Step</td>\n",
       "      <td>http://www.w3.org/2002/07/owl#Thing</td>\n",
       "      <td>1</td>\n",
       "    </tr>\n",
       "  </tbody>\n",
       "</table>\n",
       "</div>"
      ],
      "text/plain": [
       "                                 source                               target  \\\n",
       "0    http://test.org/my_ontology#class1  http://www.w3.org/2002/07/owl#Thing   \n",
       "1   http://test.org/my_ontology#class12   http://test.org/my_ontology#class1   \n",
       "2  http://test.org/my_ontology#class123  http://test.org/my_ontology#class12   \n",
       "3  http://test.org/my_ontology#class124  http://test.org/my_ontology#class12   \n",
       "4  http://test.org/my_ontology#class125  http://test.org/my_ontology#class12   \n",
       "5      http://test.org/my_ontology#Step  http://www.w3.org/2002/07/owl#Thing   \n",
       "\n",
       "   weight  \n",
       "0       1  \n",
       "1       1  \n",
       "2       1  \n",
       "3       1  \n",
       "4       1  \n",
       "5       1  "
      ]
     },
     "execution_count": 11,
     "metadata": {},
     "output_type": "execute_result"
    }
   ],
   "source": [
    "graph = default_world.as_rdflib_graph()\n",
    "\n",
    "subclass_df = pd.DataFrame(\n",
    "    graph.query('''\n",
    "    SELECT ?c ?s WHERE {\n",
    "        {\n",
    "            ?c rdfs:subClassOf ?s .\n",
    "            FILTER NOT EXISTS { ?c rdfs:label ?cl }\n",
    "            FILTER NOT EXISTS { ?s rdfs:label ?sl }    \n",
    "        } UNION {\n",
    "            ?c rdfs:subClassOf ?s_ .\n",
    "            FILTER NOT EXISTS { ?c rdfs:label ?cl }\n",
    "            ?s_ rdfs:label ?s .\n",
    "        } UNION {\n",
    "            ?c_ rdfs:subClassOf ?s .\n",
    "            FILTER NOT EXISTS { ?s rdfs:label ?sl }\n",
    "            ?c_ rdfs:label ?c .\n",
    "        } UNION {\n",
    "            ?c_ rdfs:subClassOf ?s_ .\n",
    "            ?c_ rdfs:label ?c .\n",
    "            ?s_ rdfs:label ?s .\n",
    "        }\n",
    "    }\n",
    "    ''',\n",
    "            initNs={ 'rdfs': RDFS }\n",
    "        ),\n",
    "        columns=['source', 'target']\n",
    ")\n",
    "subclass_df['weight'] = 1\n",
    "\n",
    "subclass_df"
   ]
  },
  {
   "cell_type": "code",
   "execution_count": null,
   "metadata": {},
   "outputs": [],
   "source": []
  },
  {
   "cell_type": "code",
   "execution_count": null,
   "metadata": {},
   "outputs": [],
   "source": []
  }
 ],
 "metadata": {
  "kernelspec": {
   "display_name": "Python 3",
   "language": "python",
   "name": "python3"
  },
  "language_info": {
   "codemirror_mode": {
    "name": "ipython",
    "version": 3
   },
   "file_extension": ".py",
   "mimetype": "text/x-python",
   "name": "python",
   "nbconvert_exporter": "python",
   "pygments_lexer": "ipython3",
   "version": "3.7.6"
  }
 },
 "nbformat": 4,
 "nbformat_minor": 4
}
